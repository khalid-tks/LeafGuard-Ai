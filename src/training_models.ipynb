{
 "cells": [
  {
   "cell_type": "code",
   "execution_count": null,
   "metadata": {},
   "outputs": [
    {
     "ename": "ModuleNotFoundError",
     "evalue": "No module named 'h5py'",
     "output_type": "error",
     "traceback": [
      "\u001b[1;31m---------------------------------------------------------------------------\u001b[0m",
      "\u001b[1;31mModuleNotFoundError\u001b[0m                       Traceback (most recent call last)",
      "Cell \u001b[1;32mIn[3], line 2\u001b[0m\n\u001b[0;32m      1\u001b[0m \u001b[38;5;28;01mimport\u001b[39;00m\u001b[38;5;250m \u001b[39m\u001b[38;5;21;01mos\u001b[39;00m\n\u001b[1;32m----> 2\u001b[0m \u001b[38;5;28;01mimport\u001b[39;00m\u001b[38;5;250m \u001b[39m\u001b[38;5;21;01mh5py\u001b[39;00m\n\u001b[0;32m      3\u001b[0m \u001b[38;5;28;01mimport\u001b[39;00m\u001b[38;5;250m \u001b[39m\u001b[38;5;21;01mnumpy\u001b[39;00m\u001b[38;5;250m \u001b[39m\u001b[38;5;28;01mas\u001b[39;00m\u001b[38;5;250m \u001b[39m\u001b[38;5;21;01mnp\u001b[39;00m\n\u001b[0;32m      4\u001b[0m \u001b[38;5;28;01mfrom\u001b[39;00m\u001b[38;5;250m \u001b[39m\u001b[38;5;21;01msklearn\u001b[39;00m\u001b[38;5;21;01m.\u001b[39;00m\u001b[38;5;21;01mmodel_selection\u001b[39;00m\u001b[38;5;250m \u001b[39m\u001b[38;5;28;01mimport\u001b[39;00m train_test_split\n",
      "\u001b[1;31mModuleNotFoundError\u001b[0m: No module named 'h5py'"
     ]
    }
   ],
   "source": [
    "%pip install h5py\n",
    "\n",
    "import os\n",
    "import h5py\n",
    "import numpy as np\n",
    "from sklearn.model_selection import train_test_split\n",
    "\n",
    "# Constants\n",
    "h5_train_features = \"../embeddings/features/features.h5\"\n",
    "h5_train_labels = \"../embeddings/labels/labels.h5\"\n",
    "test_size = 0.20\n",
    "seed = 9\n",
    "\n",
    "def read_h5_file(file_path):\n",
    "    h5f_data = h5py.File(file_path, \"r\")\n",
    "    embedding_string = h5f_data[\"dataset_1\"]\n",
    "    print(embedding_string)\n",
    "    embeddings = np.array(embedding_string)\n",
    "    print(file_path,embeddings)\n",
    "    h5f_data.close()\n",
    "    return embeddings\n",
    "  \n",
    "global_features = read_h5_file(h5_train_features)\n",
    "global_labels = read_h5_file(h5_train_labels)\n",
    "\n",
    "# split the training and testing data\n",
    "(\n",
    "    trainFeaturesGlobal,\n",
    "    testFeaturesGlobal,\n",
    "    trainLabelsGlobal,\n",
    "    testLabelsGlobal,\n",
    ") = train_test_split(np.array(global_features), np.array(global_labels), test_size=test_size, random_state=seed)\n",
    "\n",
    "print(\"[STATUS] splitted train and test data...\")\n",
    "print(\"Train data  : {}\".format(trainFeaturesGlobal.shape))\n",
    "print(\"Test data   : {}\".format(testFeaturesGlobal.shape))"
   ]
  },
  {
   "cell_type": "code",
   "execution_count": null,
   "metadata": {},
   "outputs": [
    {
     "ename": "ModuleNotFoundError",
     "evalue": "No module named 'sklearn'",
     "output_type": "error",
     "traceback": [
      "\u001b[1;31m---------------------------------------------------------------------------\u001b[0m",
      "\u001b[1;31mModuleNotFoundError\u001b[0m                       Traceback (most recent call last)",
      "Cell \u001b[1;32mIn[2], line 1\u001b[0m\n\u001b[1;32m----> 1\u001b[0m \u001b[38;5;28;01mfrom\u001b[39;00m\u001b[38;5;250m \u001b[39m\u001b[38;5;21;01msklearn\u001b[39;00m\u001b[38;5;21;01m.\u001b[39;00m\u001b[38;5;21;01mlinear_model\u001b[39;00m\u001b[38;5;250m \u001b[39m\u001b[38;5;28;01mimport\u001b[39;00m LogisticRegression\n\u001b[0;32m      2\u001b[0m \u001b[38;5;28;01mfrom\u001b[39;00m\u001b[38;5;250m \u001b[39m\u001b[38;5;21;01msklearn\u001b[39;00m\u001b[38;5;21;01m.\u001b[39;00m\u001b[38;5;21;01mtree\u001b[39;00m\u001b[38;5;250m \u001b[39m\u001b[38;5;28;01mimport\u001b[39;00m DecisionTreeClassifier\n\u001b[0;32m      3\u001b[0m \u001b[38;5;28;01mfrom\u001b[39;00m\u001b[38;5;250m \u001b[39m\u001b[38;5;21;01msklearn\u001b[39;00m\u001b[38;5;21;01m.\u001b[39;00m\u001b[38;5;21;01mensemble\u001b[39;00m\u001b[38;5;250m \u001b[39m\u001b[38;5;28;01mimport\u001b[39;00m RandomForestClassifier\n",
      "\u001b[1;31mModuleNotFoundError\u001b[0m: No module named 'sklearn'"
     ]
    }
   ],
   "source": [
    "from sklearn.linear_model import LogisticRegression\n",
    "from sklearn.tree import DecisionTreeClassifier\n",
    "from sklearn.ensemble import RandomForestClassifier\n",
    "from sklearn.neighbors import KNeighborsClassifier\n",
    "from sklearn.discriminant_analysis import LinearDiscriminantAnalysis\n",
    "from sklearn.naive_bayes import GaussianNB\n",
    "from sklearn.svm import SVC\n",
    "from sklearn.metrics import confusion_matrix, accuracy_score, classification_report\n",
    "import pickle\n",
    "import warnings\n",
    "\n",
    "warnings.filterwarnings(\"ignore\")\n",
    "\n",
    "# create all the machine learning models\n",
    "models = {\n",
    "    \"LR\": LogisticRegression(random_state=seed),\n",
    "    \"KNN\": KNeighborsClassifier(),\n",
    "    \"DTC\": DecisionTreeClassifier(random_state=seed),\n",
    "    \"RF\": RandomForestClassifier(random_state=seed),\n",
    "    \"LDA\": LinearDiscriminantAnalysis(),\n",
    "    \"NB\": GaussianNB(),\n",
    "    \"SVM\": SVC(random_state=seed),\n",
    "}\n",
    "\n",
    "def train_and_save_model():\n",
    "    # train the model\n",
    "  print(\"[STATUS] training the model...\")\n",
    "  for name, model in models.items():\n",
    "      model.fit(trainFeaturesGlobal, trainLabelsGlobal)\n",
    "      # predict  the model\n",
    "      predictions = model.predict(testFeaturesGlobal)\n",
    "      # evaluate the model\n",
    "      score = accuracy_score(testLabelsGlobal, predictions)\n",
    "      print(\"Model: {} Accuracy: {}\".format(name, score))\n",
    "      \n",
    "      # save the model\n",
    "      if not os.path.exists(\"../models\"):\n",
    "        os.makedirs(\"../models\")\n",
    "        \n",
    "      filename = \"../models/{}.pkl\".format(name)\n",
    "      pickle.dump(model, open(filename, \"wb\"))\n",
    "      print(\"[STATUS] saved model {}\".format(filename))\n",
    "\n",
    "train_and_save_model() "
   ]
  },
  {
   "cell_type": "code",
   "execution_count": null,
   "metadata": {},
   "outputs": [],
   "source": []
  }
 ],
 "metadata": {
  "kernelspec": {
   "display_name": "Python 3",
   "language": "python",
   "name": "python3"
  },
  "language_info": {
   "codemirror_mode": {
    "name": "ipython",
    "version": 3
   },
   "file_extension": ".py",
   "mimetype": "text/x-python",
   "name": "python",
   "nbconvert_exporter": "python",
   "pygments_lexer": "ipython3",
   "version": "3.8.10"
  },
  "orig_nbformat": 4
 },
 "nbformat": 4,
 "nbformat_minor": 2
}
